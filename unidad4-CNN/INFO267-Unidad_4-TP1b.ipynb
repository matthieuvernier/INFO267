{
 "cells": [
  {
   "cell_type": "markdown",
   "metadata": {},
   "source": [
    "# <center>Entrenar y evaluar una red neuronal convolucional para resolver un problema de clasificación de imágenes</center>\n",
    "\n",
    "Generalmente, cuando se trata de datos de imagen, texto, audio o vídeo, se pueden utilizar paquetes python estándar que cargan datos en un arreglo numpy. Luego se puede convertir este arreglo en un torch.*Tensor.\n",
    "\n",
    "- Para las imágenes, paquetes como Pillow, OpenCV son útiles\n",
    "- Para audio, paquetes como scipy y librosa\n",
    "- Para el texto, es útil la carga basada en Python o Cython en bruto, o NLTK y SpaCy.\n",
    "\n",
    "Específicamente para la visión, existe un paquete llamado torchvision, que tiene cargadores de datos para conjuntos de datos comunes como Imagenet, CIFAR10, MNIST, etc. y transformadores de datos para imágenes, a saber, torchvision.datasets y torch.utils.data.data.loader.\n",
    "\n",
    "Para este tutorial, utilizaremos el conjunto de datos CIFAR10. Tiene las clases: 'avión', 'automóvil', 'pájaro', 'gato', 'ciervo', 'perro', 'rana', 'caballo', 'barco', 'camión'. Las imágenes en CIFAR-10 son de tamaño 3x32x32, es decir, imágenes en color de 3 canales de 32x32 píxeles de tamaño: https://www.cs.toronto.edu/~kriz/cifar.html\n",
    "\n",
    "<img src=\"cifar10.png\"></img>"
   ]
  },
  {
   "cell_type": "markdown",
   "metadata": {},
   "source": [
    "Haremos los siguientes pasos en orden:\n",
    "\n",
    "- Cargar y normalizar los conjuntos de datos de entrenamiento y pruebas CIFAR10 utilizando torchvision.\n",
    "- Configurar una red neuronal de convolución\n",
    "- Definir una función de pérdida\n",
    "- Optimizar la red sobre los datos de entrenamiento\n",
    "- Probar la red con los datos de test"
   ]
  },
  {
   "cell_type": "markdown",
   "metadata": {},
   "source": [
    "## 1. Cargar y normalizar el dataset CIFAR10"
   ]
  },
  {
   "cell_type": "code",
   "execution_count": 1,
   "metadata": {},
   "outputs": [
    {
     "name": "stdout",
     "output_type": "stream",
     "text": [
      "Files already downloaded and verified\n",
      "Files already downloaded and verified\n"
     ]
    }
   ],
   "source": [
    "import torch\n",
    "import torchvision\n",
    "import torchvision.transforms as transforms\n",
    "\n",
    "#The output of torchvision datasets are PILImage images of range [0, 1]. \n",
    "#We transform them to Tensors of normalized range [-1, 1].\n",
    "\n",
    "transform = transforms.Compose(\n",
    "    [transforms.ToTensor(),\n",
    "     transforms.Normalize((0.5, 0.5, 0.5), (0.5, 0.5, 0.5))])\n",
    "\n",
    "trainset = torchvision.datasets.CIFAR10(root='./data', train=True,\n",
    "                                        download=True, transform=transform)\n",
    "trainloader = torch.utils.data.DataLoader(trainset, batch_size=4,\n",
    "                                          shuffle=True, num_workers=2)\n",
    "\n",
    "testset = torchvision.datasets.CIFAR10(root='./data', train=False,\n",
    "                                       download=True, transform=transform)\n",
    "testloader = torch.utils.data.DataLoader(testset, batch_size=4,\n",
    "                                         shuffle=False, num_workers=2)\n",
    "\n",
    "classes = ('plane', 'car', 'bird', 'cat',\n",
    "           'deer', 'dog', 'frog', 'horse', 'ship', 'truck')"
   ]
  },
  {
   "cell_type": "markdown",
   "metadata": {},
   "source": [
    "El código siguiente permite mostrar imagenes aleatorias del dataset de entrenamiento y su etiqueta real:"
   ]
  },
  {
   "cell_type": "code",
   "execution_count": 27,
   "metadata": {},
   "outputs": [
    {
     "data": {
      "image/png": "[encoded data removed]",
      "text/plain": [
       "<Figure size 432x288 with 1 Axes>"
      ]
     },
     "metadata": {},
     "output_type": "display_data"
    },
    {
     "name": "stdout",
     "output_type": "stream",
     "text": [
      " bird plane  deer   car\n"
     ]
    }
   ],
   "source": [
    "import matplotlib.pyplot as plt\n",
    "import numpy as np\n",
    "\n",
    "# functions to show an image\n",
    "def imshow(img):\n",
    "    img = img / 2 + 0.5     # unnormalize\n",
    "    npimg = img.numpy()\n",
    "    plt.imshow(np.transpose(npimg, (1, 2, 0)))\n",
    "    plt.show()\n",
    "    \n",
    "def imagesFromBatches(iterator,quantity):\n",
    "    dataiter = iter(iterator)\n",
    "    images, labels = dataiter.next()    \n",
    "    imshow(torchvision.utils.make_grid(images))\n",
    "    print(' '.join('%5s' % classes[labels[j]] for j in range(quantity)))\n",
    "    return (images,labels)\n",
    "\n",
    "# get some random training images\n",
    "dataiter = iter(trainloader)\n",
    "images, labels = dataiter.next()\n",
    "\n",
    "# show images\n",
    "imshow(torchvision.utils.make_grid(images))\n",
    "# print labels\n",
    "print(' '.join('%5s' % classes[labels[j]] for j in range(4)))"
   ]
  },
  {
   "cell_type": "markdown",
   "metadata": {},
   "source": [
    "## 2. Configurar la CNN"
   ]
  },
  {
   "cell_type": "code",
   "execution_count": 41,
   "metadata": {},
   "outputs": [
    {
     "name": "stdout",
     "output_type": "stream",
     "text": [
      "----------------------------------------------------------------\n",
      "        Layer (type)               Output Shape         Param #\n",
      "================================================================\n",
      "            Conv2d-1            [-1, 6, 28, 28]             456\n",
      "         MaxPool2d-2            [-1, 6, 14, 14]               0\n",
      "            Conv2d-3           [-1, 24, 10, 10]           3,624\n",
      "         MaxPool2d-4             [-1, 24, 5, 5]               0\n",
      "            Linear-5                  [-1, 120]          72,120\n",
      "            Linear-6                   [-1, 84]          10,164\n",
      "            Linear-7                   [-1, 10]             850\n",
      "================================================================\n",
      "Total params: 87,214\n",
      "Trainable params: 87,214\n",
      "Non-trainable params: 0\n",
      "----------------------------------------------------------------\n",
      "Input size (MB): 0.01\n",
      "Forward/backward pass size (MB): 0.07\n",
      "Params size (MB): 0.33\n",
      "Estimated Total Size (MB): 0.41\n",
      "----------------------------------------------------------------\n"
     ]
    }
   ],
   "source": [
    "import torch.nn as nn\n",
    "import torch.nn.functional as F\n",
    "\n",
    "from torchsummary import summary\n",
    "\n",
    "class Net(nn.Module):\n",
    "    def __init__(self):\n",
    "        super(Net, self).__init__()\n",
    "        self.conv1 = nn.Conv2d(3, 6, 5)\n",
    "        self.pool = nn.MaxPool2d(2, 2)\n",
    "        self.conv2 = nn.Conv2d(6, 16, 5)\n",
    "        self.fc1 = nn.Linear(16 * 5 * 5, 120)\n",
    "        self.fc2 = nn.Linear(120, 84)\n",
    "        self.fc3 = nn.Linear(84, 10)\n",
    "\n",
    "    def forward(self, x):\n",
    "        x = self.pool(F.relu(self.conv1(x)))\n",
    "        x = self.pool(F.relu(self.conv2(x)))\n",
    "        x = x.view(-1, 16 * 5 * 5)\n",
    "        x = F.relu(self.fc1(x))\n",
    "        x = F.relu(self.fc2(x))\n",
    "        x = self.fc3(x)\n",
    "        return x\n",
    "\n",
    "\n",
    "net = Net()\n",
    "\n",
    "summary(net,(3,32,32))"
   ]
  },
  {
   "cell_type": "markdown",
   "metadata": {},
   "source": [
    "<b>Preguntas:</b>\n",
    "\n",
    "1) ¿Cuántas capas tiene nuestra CNN?\n",
    "\n",
    "2) Explicar los parametros de cada capa. ¿Cuántos filtros se utilizan en las capas de convolución? ¿Cuál es el tamaño de los filtros?\n",
    "\n",
    "3) ¿Cuál es la diferencia entre la función <code>init</code> y <code>forward</code>?\n",
    "\n",
    "4) ¿De qué sirve la función view()? Explicar sus parametros.\n",
    "\n",
    "5) ¿Cuántos paramétros tenemos que aprender en cada capa?\n",
    "\n",
    "6) ¿Por qué se utiliza la función <code>conv2d</code> aunque tenemos imagenes con 3 canales? ¿Con qué tipo de datos se puede utilizar <code>conv3d</code>?\n",
    "\n",
    "7) ¿De qué sirve la función summary? ¿Cuáles son sus parametros?"
   ]
  },
  {
   "cell_type": "markdown",
   "metadata": {},
   "source": [
    "## 3. Entrenar la CNN"
   ]
  },
  {
   "cell_type": "code",
   "execution_count": 42,
   "metadata": {},
   "outputs": [],
   "source": [
    "import torch.optim as optim\n",
    "\n",
    "criterion = nn.CrossEntropyLoss()\n",
    "optimizer = optim.SGD(net.parameters(), lr=0.001, momentum=0.9)"
   ]
  },
  {
   "cell_type": "code",
   "execution_count": 43,
   "metadata": {},
   "outputs": [
    {
     "name": "stdout",
     "output_type": "stream",
     "text": [
      "[1,  2000] loss: 2.189\n",
      "[1,  4000] loss: 1.832\n",
      "[1,  6000] loss: 1.656\n",
      "[1,  8000] loss: 1.552\n",
      "[1, 10000] loss: 1.498\n",
      "[1, 12000] loss: 1.426\n",
      "[2,  2000] loss: 1.341\n",
      "[2,  4000] loss: 1.315\n",
      "[2,  6000] loss: 1.285\n",
      "[2,  8000] loss: 1.264\n",
      "[2, 10000] loss: 1.225\n",
      "[2, 12000] loss: 1.224\n",
      "[3,  2000] loss: 1.149\n",
      "[3,  4000] loss: 1.133\n",
      "[3,  6000] loss: 1.096\n",
      "[3,  8000] loss: 1.118\n",
      "[3, 10000] loss: 1.110\n",
      "[3, 12000] loss: 1.086\n",
      "[4,  2000] loss: 1.003\n",
      "[4,  4000] loss: 1.006\n",
      "[4,  6000] loss: 1.017\n",
      "[4,  8000] loss: 1.016\n",
      "[4, 10000] loss: 1.012\n",
      "[4, 12000] loss: 1.009\n",
      "Finished Training\n"
     ]
    }
   ],
   "source": [
    "for epoch in range(4):  # loop over the dataset multiple times\n",
    "\n",
    "    running_loss = 0.0\n",
    "    for i, data in enumerate(trainloader, 0):\n",
    "        # get the inputs\n",
    "        inputs, labels = data\n",
    "\n",
    "        # zero the parameter gradients\n",
    "        optimizer.zero_grad()\n",
    "\n",
    "        # forward + backward + optimize\n",
    "        outputs = net(inputs)\n",
    "        loss = criterion(outputs, labels)\n",
    "        loss.backward()\n",
    "        optimizer.step()\n",
    "\n",
    "        # print statistics\n",
    "        running_loss += loss.item()\n",
    "        if i % 2000 == 1999:    # print every 2000 mini-batches\n",
    "            print('[%d, %5d] loss: %.3f' %\n",
    "                  (epoch + 1, i + 1, running_loss / 2000))\n",
    "            running_loss = 0.0\n",
    "\n",
    "print('Finished Training')"
   ]
  },
  {
   "cell_type": "markdown",
   "metadata": {},
   "source": [
    "<b>Preguntas:</b>\n",
    "\n",
    "1) ¿Cuál es la función de perdida utilizada?\n",
    "\n",
    "2) ¿Qué devuelve el método CrossEntropyLoss()?\n",
    "\n",
    "3) ¿Qué proceso de optimización se utiliza?\n",
    "\n",
    "4) ¿Qué diferencia existe entre el método de optimización GD y SGD?\n",
    "\n",
    "5) ¿A qué corresponde el concepto de <i>epoch</i>?\n",
    "\n",
    "6) ¿Podría ser útil aumentar el número de epoch? ¿Por qué?\n",
    "\n",
    "7) ¿De qué sirve el parametro <code>momentum</code> del método SGD?"
   ]
  },
  {
   "cell_type": "markdown",
   "metadata": {},
   "source": [
    "## 4. Evaluar la CNN"
   ]
  },
  {
   "cell_type": "markdown",
   "metadata": {},
   "source": [
    "Tomamos 4 ejemplos del dataset de test:"
   ]
  },
  {
   "cell_type": "code",
   "execution_count": 44,
   "metadata": {},
   "outputs": [
    {
     "data": {
      "image/png": "[encoded data removed]",
      "text/plain": [
       "<Figure size 432x288 with 1 Axes>"
      ]
     },
     "metadata": {},
     "output_type": "display_data"
    },
    {
     "name": "stdout",
     "output_type": "stream",
     "text": [
      "  cat  ship  ship plane\n"
     ]
    }
   ],
   "source": [
    "BatchSize=4\n",
    "\n",
    "images,labels= imagesFromBatches(testloader,BatchSize)"
   ]
  },
  {
   "cell_type": "markdown",
   "metadata": {},
   "source": [
    "Clasificamos estas 4 imágenes con nuestra CNN: "
   ]
  },
  {
   "cell_type": "code",
   "execution_count": 45,
   "metadata": {},
   "outputs": [
    {
     "name": "stdout",
     "output_type": "stream",
     "text": [
      "Predicted:    cat   car   car plane\n"
     ]
    }
   ],
   "source": [
    "outputs = net(images)\n",
    "\n",
    "_, predicted = torch.max(outputs, 1)\n",
    "\n",
    "print('Predicted: ', ' '.join('%5s' % classes[predicted[j]]\n",
    "                              for j in range(4)))"
   ]
  },
  {
   "cell_type": "markdown",
   "metadata": {},
   "source": [
    "¿Cuál es rendimiento de nuestra CNN sobre estos 4 primeros ejemplos?\n",
    "\n",
    "Calculamos el rendimiento de nuestra CNN sobre todos los datos del training set:"
   ]
  },
  {
   "cell_type": "code",
   "execution_count": 46,
   "metadata": {},
   "outputs": [
    {
     "name": "stdout",
     "output_type": "stream",
     "text": [
      "Accuracy of the network on the 10000 test images: 62 %\n"
     ]
    }
   ],
   "source": [
    "correct = 0\n",
    "total = 0\n",
    "with torch.no_grad():\n",
    "    for data in testloader:\n",
    "        images, labels = data\n",
    "        outputs = net(images)\n",
    "        _, predicted = torch.max(outputs.data, 1)\n",
    "        total += labels.size(0)\n",
    "        correct += (predicted == labels).sum().item()\n",
    "\n",
    "print('Accuracy of the network on the 10000 test images: %d %%' % (\n",
    "    100 * correct / total))"
   ]
  },
  {
   "cell_type": "markdown",
   "metadata": {},
   "source": [
    "Miramos el rendimiento de la CNN calculando su exactitud según cada etiqueta:"
   ]
  },
  {
   "cell_type": "code",
   "execution_count": 47,
   "metadata": {},
   "outputs": [
    {
     "name": "stdout",
     "output_type": "stream",
     "text": [
      "Accuracy of plane : 71 %\n",
      "Accuracy of   car : 75 %\n",
      "Accuracy of  bird : 44 %\n",
      "Accuracy of   cat : 43 %\n",
      "Accuracy of  deer : 57 %\n",
      "Accuracy of   dog : 47 %\n",
      "Accuracy of  frog : 66 %\n",
      "Accuracy of horse : 81 %\n",
      "Accuracy of  ship : 67 %\n",
      "Accuracy of truck : 70 %\n"
     ]
    }
   ],
   "source": [
    "class_correct = list(0. for i in range(10))\n",
    "class_total = list(0. for i in range(10))\n",
    "with torch.no_grad():\n",
    "    for data in testloader:\n",
    "        images, labels = data\n",
    "        outputs = net(images)\n",
    "        _, predicted = torch.max(outputs, 1)\n",
    "        c = (predicted == labels).squeeze()\n",
    "        for i in range(4):\n",
    "            label = labels[i]\n",
    "            class_correct[label] += c[i].item()\n",
    "            class_total[label] += 1\n",
    "\n",
    "\n",
    "for i in range(10):\n",
    "    print('Accuracy of %5s : %2d %%' % (\n",
    "        classes[i], 100 * class_correct[i] / class_total[i]))"
   ]
  },
  {
   "cell_type": "markdown",
   "metadata": {},
   "source": [
    "<b>Preguntas:</b>\n",
    "\n",
    "1) ¿Qué paramétros podrían modificar para tratar de mejorar el rendimiento del CNN?\n",
    "\n",
    "2) ¿Qué pasa si tratan de agregar más filtros en la segunda capa de convolución?\n",
    "\n",
    "3) ¿Qué pasa si trata de agregar una tercera capa de convolución y pooling?\n",
    "\n",
    "4) Proponer una CNN para resolver la clasificación de imagenes del dataset MNIST"
   ]
  }
 ],
 "metadata": {
  "kernelspec": {
   "display_name": "Python 3",
   "language": "python",
   "name": "python3"
  },
  "language_info": {
   "codemirror_mode": {
    "name": "ipython",
    "version": 3
   },
   "file_extension": ".py",
   "mimetype": "text/x-python",
   "name": "python",
   "nbconvert_exporter": "python",
   "pygments_lexer": "ipython3",
   "version": "3.6.7"
  }
 },
 "nbformat": 4,
 "nbformat_minor": 2
}
